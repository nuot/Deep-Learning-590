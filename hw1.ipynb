{
 "cells": [
  {
   "cell_type": "code",
   "execution_count": 75,
   "metadata": {},
   "outputs": [],
   "source": [
    "import pandas as pd\n",
    "import numpy as np\n",
    "from sklearn.linear_model import Lasso, LassoCV, Ridge, RidgeCV\n",
    "from sklearn.model_selection import train_test_split\n",
    "import matplotlib.pyplot as plt"
   ]
  },
  {
   "cell_type": "code",
   "execution_count": 76,
   "metadata": {},
   "outputs": [],
   "source": [
    "hitter = pd.read_csv('Hitters.csv')"
   ]
  },
  {
   "cell_type": "markdown",
   "metadata": {},
   "source": [
    "Drop non-numerical columns in the dataset, and drop all NaNs"
   ]
  },
  {
   "cell_type": "code",
   "execution_count": 77,
   "metadata": {},
   "outputs": [],
   "source": [
    "hitter = hitter.drop(['Unnamed: 0', 'League', 'Division', 'NewLeague'], axis = 1)"
   ]
  },
  {
   "cell_type": "code",
   "execution_count": 78,
   "metadata": {},
   "outputs": [],
   "source": [
    "hitter = hitter.dropna()"
   ]
  },
  {
   "cell_type": "markdown",
   "metadata": {},
   "source": [
    "Select the Salary(X) from the other predictors(Y) columns"
   ]
  },
  {
   "cell_type": "code",
   "execution_count": 79,
   "metadata": {},
   "outputs": [],
   "source": [
    "x = hitter.iloc[:, :-1]\n",
    "y = hitter.iloc[:, 16]"
   ]
  },
  {
   "cell_type": "markdown",
   "metadata": {},
   "source": [
    "**Lasso Regression**"
   ]
  },
  {
   "cell_type": "code",
   "execution_count": 114,
   "metadata": {},
   "outputs": [
    {
     "name": "stderr",
     "output_type": "stream",
     "text": [
      "/Users/nuotian/opt/anaconda3/lib/python3.7/site-packages/ipykernel_launcher.py:7: UserWarning: With alpha=0, this algorithm does not converge well. You are advised to use the LinearRegression estimator\n",
      "  import sys\n",
      "/Users/nuotian/opt/anaconda3/lib/python3.7/site-packages/sklearn/linear_model/coordinate_descent.py:475: UserWarning: Coordinate descent with no regularization may lead to unexpected results and is discouraged.\n",
      "  positive)\n",
      "/Users/nuotian/opt/anaconda3/lib/python3.7/site-packages/sklearn/linear_model/coordinate_descent.py:475: ConvergenceWarning: Objective did not converge. You might want to increase the number of iterations. Duality gap: 12585154.719803449, tolerance: 5331.911278864535\n",
      "  positive)\n"
     ]
    }
   ],
   "source": [
    "params = np.linspace(0,20,200)\n",
    "lasso = Lasso(max_iter = 2e4, normalize = True)\n",
    "coeffs = []\n",
    "\n",
    "for num in params:\n",
    "    lasso.set_params(alpha = num)\n",
    "    lasso.fit(x,y)\n",
    "    coeffs.append(lasso.coef_)"
   ]
  },
  {
   "cell_type": "code",
   "execution_count": 115,
   "metadata": {},
   "outputs": [
    {
     "data": {
      "image/png": "[encoded data removed]",
      "text/plain": [
       "<Figure size 432x288 with 1 Axes>"
      ]
     },
     "metadata": {
      "needs_background": "light"
     },
     "output_type": "display_data"
    }
   ],
   "source": [
    "pt = plt.gca()\n",
    "pt.plot(params, coeffs)\n",
    "pt.set_xscale('log')\n",
    "plt.xlabel('Lambda')\n",
    "plt.ylabel('Coefficients')\n",
    "plt.show()"
   ]
  },
  {
   "cell_type": "markdown",
   "metadata": {},
   "source": [
    "From the plot above, we could see that before alpha reaches to 10, there are more than 3 predictors that remain in the model. Below, I will check how the coefficients of the predictors changed when lambda equals to 10."
   ]
  },
  {
   "cell_type": "code",
   "execution_count": 116,
   "metadata": {},
   "outputs": [
    {
     "name": "stdout",
     "output_type": "stream",
     "text": [
      "AtBat      0.000000\n",
      "Hits       0.329475\n",
      "HmRun      0.000000\n",
      "Runs       0.000000\n",
      "RBI        0.000000\n",
      "Walks      0.000000\n",
      "Years      0.000000\n",
      "CAtBat     0.000000\n",
      "CHits      0.000000\n",
      "CHmRun     0.000000\n",
      "CRuns      0.076322\n",
      "CRBI       0.204475\n",
      "CWalks     0.000000\n",
      "PutOuts    0.000000\n",
      "Assists    0.000000\n",
      "Errors     0.000000\n",
      "dtype: float64\n"
     ]
    }
   ],
   "source": [
    "lasso = Lasso(max_iter = 2e4, normalize = True)\n",
    "lasso.set_params(alpha = 10)\n",
    "lasso.fit(x,y)\n",
    "print(pd.Series(lasso.coef_, index = x.columns))"
   ]
  },
  {
   "cell_type": "markdown",
   "metadata": {},
   "source": [
    "From the result above, we could see that the final three predictors are Hits, CRuns and CRBI."
   ]
  },
  {
   "cell_type": "markdown",
   "metadata": {},
   "source": [
    "**To find the optimal value of the regularization penality using cross validation **"
   ]
  },
  {
   "cell_type": "code",
   "execution_count": 117,
   "metadata": {},
   "outputs": [
    {
     "data": {
      "text/plain": [
       "Lasso(alpha=0.0635481759985745, copy_X=True, fit_intercept=True,\n",
       "      max_iter=20000.0, normalize=True, positive=False, precompute=False,\n",
       "      random_state=None, selection='cyclic', tol=0.0001, warm_start=False)"
      ]
     },
     "execution_count": 117,
     "metadata": {},
     "output_type": "execute_result"
    }
   ],
   "source": [
    "lassocv = LassoCV(cv = 10, max_iter = 2e4, normalize = True)\n",
    "lassocv.fit(x, y)\n",
    "lasso.set_params(alpha = lassocv.alpha_)"
   ]
  },
  {
   "cell_type": "code",
   "execution_count": 118,
   "metadata": {},
   "outputs": [
    {
     "data": {
      "text/plain": [
       "AtBat     -2.082954\n",
       "Hits       7.041011\n",
       "HmRun      0.000000\n",
       "Runs      -0.682615\n",
       "RBI        0.496552\n",
       "Walks      5.511781\n",
       "Years     -6.107625\n",
       "CAtBat    -0.087066\n",
       "CHits      0.000000\n",
       "CHmRun     0.156468\n",
       "CRuns      1.228061\n",
       "CRBI       0.583821\n",
       "CWalks    -0.690601\n",
       "PutOuts    0.292694\n",
       "Assists    0.304372\n",
       "Errors    -2.450795\n",
       "dtype: float64"
      ]
     },
     "execution_count": 118,
     "metadata": {},
     "output_type": "execute_result"
    }
   ],
   "source": [
    "lasso.fit(x,y)\n",
    "pd.Series(lasso.coef_, index = x.columns)"
   ]
  },
  {
   "cell_type": "code",
   "execution_count": 119,
   "metadata": {},
   "outputs": [
    {
     "name": "stdout",
     "output_type": "stream",
     "text": [
      "the optimal value of the regularization penalty is 0.0635481759985745\n",
      "there are 14 predictors left\n"
     ]
    }
   ],
   "source": [
    "print('the optimal value of the regularization penalty is', lassocv.alpha_)\n",
    "print('there are', np.sum(lasso.coef_!=0),'predictors left')"
   ]
  },
  {
   "cell_type": "markdown",
   "metadata": {},
   "source": [
    "**Ridge Regression **"
   ]
  },
  {
   "cell_type": "code",
   "execution_count": 126,
   "metadata": {},
   "outputs": [],
   "source": [
    "params = np.logspace(-5,5,200)\n",
    "ridge = Ridge(max_iter = 2e4, normalize = True)\n",
    "coeffs = []\n",
    "\n",
    "for num in params:\n",
    "    ridge.set_params(alpha = num)\n",
    "    ridge.fit(x,y)\n",
    "    coeffs.append(ridge.coef_)"
   ]
  },
  {
   "cell_type": "code",
   "execution_count": 127,
   "metadata": {},
   "outputs": [
    {
     "data": {
      "image/png": "[encoded data removed]",
      "text/plain": [
       "<Figure size 432x288 with 1 Axes>"
      ]
     },
     "metadata": {
      "needs_background": "light"
     },
     "output_type": "display_data"
    }
   ],
   "source": [
    "pt = plt.gca()\n",
    "pt.plot(params, coeffs)\n",
    "pt.set_xscale('log')\n",
    "plt.xlabel('Lambda')\n",
    "plt.ylabel('Coefficients')\n",
    "plt.show()"
   ]
  },
  {
   "cell_type": "code",
   "execution_count": 136,
   "metadata": {},
   "outputs": [
    {
     "data": {
      "text/plain": [
       "Ridge(alpha=0.01162322468679853, copy_X=True, fit_intercept=True,\n",
       "      max_iter=20000.0, normalize=True, random_state=None, solver='auto',\n",
       "      tol=0.001)"
      ]
     },
     "execution_count": 136,
     "metadata": {},
     "output_type": "execute_result"
    }
   ],
   "source": [
    "ridgecv = RidgeCV(alphas = params, scoring = 'neg_mean_squared_error', normalize = True)\n",
    "ridgecv.fit(x, y)\n",
    "ridge.set_params(alpha = ridgecv.alpha_)"
   ]
  },
  {
   "cell_type": "code",
   "execution_count": 137,
   "metadata": {},
   "outputs": [
    {
     "name": "stdout",
     "output_type": "stream",
     "text": [
      "the optimal value of the regularization penalty is 0.01162322468679853\n"
     ]
    }
   ],
   "source": [
    "print('the optimal value of the regularization penalty is', ridgecv.alpha_)"
   ]
  },
  {
   "cell_type": "code",
   "execution_count": 138,
   "metadata": {},
   "outputs": [
    {
     "data": {
      "text/plain": [
       "AtBat     -1.700238\n",
       "Hits       5.489607\n",
       "HmRun     -1.623744\n",
       "Runs       0.328031\n",
       "RBI        1.039454\n",
       "Walks      4.912609\n",
       "Years     -9.975255\n",
       "CAtBat    -0.053294\n",
       "CHits      0.175061\n",
       "CHmRun     0.710317\n",
       "CRuns      0.706334\n",
       "CRBI       0.336152\n",
       "CWalks    -0.534752\n",
       "PutOuts    0.288814\n",
       "Assists    0.290802\n",
       "Errors    -3.445539\n",
       "dtype: float64"
      ]
     },
     "execution_count": 138,
     "metadata": {},
     "output_type": "execute_result"
    }
   ],
   "source": [
    "ridge.fit(x,y)\n",
    "pd.Series(ridge.coef_, index = x.columns)"
   ]
  },
  {
   "cell_type": "markdown",
   "metadata": {},
   "source": [
    "All predictors are kept in the model since Ridge regression wouldn't eliminate any predictors but constrain them getting closer to zero."
   ]
  },
  {
   "cell_type": "markdown",
   "metadata": {},
   "source": [
    "**Short Answer**"
   ]
  },
  {
   "cell_type": "markdown",
   "metadata": {},
   "source": [
    "Explain in your own words the bias-variance tradeoff. \n",
    "\n",
    "The bias-variance tradeoff is the way to describe the relationship between model accuracy and model robustness. For example, if the model is very flexible, the accuray of this prediction model will be high, but it might be to detail to fit other data. (High variance). But, if the model is too general, it wouldn't tell the different between different dataset, it will also lead to a lower model performance.(High bias). In general, we are aiming for a low variance and a low bias model."
   ]
  },
  {
   "cell_type": "markdown",
   "metadata": {},
   "source": [
    "What role does regularization play in this tradeoff? Make reference to your findings\n",
    "in number (1) to describe models of high/low bias and variance.\n",
    "\n",
    "Regulation is a way to constrain the model and solve the overfitting problem by applying a penalty parameter to the coeffients. \n",
    "\n",
    "See the two plots above, on the left side are those with a small penalty value applied. And for those parts of the graphs, the coefficients have a large variablility. But for those with a decent penalty value applied, the coefficients are constrained into a reasonable range. "
   ]
  },
  {
   "cell_type": "code",
   "execution_count": null,
   "metadata": {},
   "outputs": [],
   "source": []
  }
 ],
 "metadata": {
  "kernelspec": {
   "display_name": "Python 3",
   "language": "python",
   "name": "python3"
  },
  "language_info": {
   "codemirror_mode": {
    "name": "ipython",
    "version": 3
   },
   "file_extension": ".py",
   "mimetype": "text/x-python",
   "name": "python",
   "nbconvert_exporter": "python",
   "pygments_lexer": "ipython3",
   "version": "3.7.4"
  }
 },
 "nbformat": 4,
 "nbformat_minor": 2
}
