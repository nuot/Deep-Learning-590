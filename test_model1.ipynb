{
  "nbformat": 4,
  "nbformat_minor": 0,
  "metadata": {
    "colab": {
      "name": "test_model1.ipynb",
      "provenance": [],
      "authorship_tag": "ABX9TyMwQLRJ3vav5oO7BodYvXz9",
      "include_colab_link": true
    },
    "kernelspec": {
      "name": "python3",
      "display_name": "Python 3"
    },
    "widgets": {
      "application/vnd.jupyter.widget-state+json": {
        "b975a9d5fbbc4c08a07985fa2bd7c497": {
          "model_module": "@jupyter-widgets/controls",
          "model_name": "HBoxModel",
          "state": {
            "_view_name": "HBoxView",
            "_dom_classes": [],
            "_model_name": "HBoxModel",
            "_view_module": "@jupyter-widgets/controls",
            "_model_module_version": "1.5.0",
            "_view_count": null,
            "_view_module_version": "1.5.0",
            "box_style": "",
            "layout": "IPY_MODEL_b8a2b45903014be09feb320961bf6482",
            "_model_module": "@jupyter-widgets/controls",
            "children": [
              "IPY_MODEL_5b7d4d2f59a34c3898a18a075de1d5db",
              "IPY_MODEL_76b0ab80428a4be685e9b062e851d7a3"
            ]
          }
        },
        "b8a2b45903014be09feb320961bf6482": {
          "model_module": "@jupyter-widgets/base",
          "model_name": "LayoutModel",
          "state": {
            "_view_name": "LayoutView",
            "grid_template_rows": null,
            "right": null,
            "justify_content": null,
            "_view_module": "@jupyter-widgets/base",
            "overflow": null,
            "_model_module_version": "1.2.0",
            "_view_count": null,
            "flex_flow": null,
            "width": null,
            "min_width": null,
            "border": null,
            "align_items": null,
            "bottom": null,
            "_model_module": "@jupyter-widgets/base",
            "top": null,
            "grid_column": null,
            "overflow_y": null,
            "overflow_x": null,
            "grid_auto_flow": null,
            "grid_area": null,
            "grid_template_columns": null,
            "flex": null,
            "_model_name": "LayoutModel",
            "justify_items": null,
            "grid_row": null,
            "max_height": null,
            "align_content": null,
            "visibility": null,
            "align_self": null,
            "height": null,
            "min_height": null,
            "padding": null,
            "grid_auto_rows": null,
            "grid_gap": null,
            "max_width": null,
            "order": null,
            "_view_module_version": "1.2.0",
            "grid_template_areas": null,
            "object_position": null,
            "object_fit": null,
            "grid_auto_columns": null,
            "margin": null,
            "display": null,
            "left": null
          }
        },
        "5b7d4d2f59a34c3898a18a075de1d5db": {
          "model_module": "@jupyter-widgets/controls",
          "model_name": "FloatProgressModel",
          "state": {
            "_view_name": "ProgressView",
            "style": "IPY_MODEL_c96219b21c0c491d85ec00127e520fb9",
            "_dom_classes": [],
            "description": "Downloading: 100%",
            "_model_name": "FloatProgressModel",
            "bar_style": "success",
            "max": 443,
            "_view_module": "@jupyter-widgets/controls",
            "_model_module_version": "1.5.0",
            "value": 443,
            "_view_count": null,
            "_view_module_version": "1.5.0",
            "orientation": "horizontal",
            "min": 0,
            "description_tooltip": null,
            "_model_module": "@jupyter-widgets/controls",
            "layout": "IPY_MODEL_9a7fff84028041ea94f84c3662da3c16"
          }
        },
        "76b0ab80428a4be685e9b062e851d7a3": {
          "model_module": "@jupyter-widgets/controls",
          "model_name": "HTMLModel",
          "state": {
            "_view_name": "HTMLView",
            "style": "IPY_MODEL_e716ac83d15a4e068ad5a2dede2f1ad6",
            "_dom_classes": [],
            "description": "",
            "_model_name": "HTMLModel",
            "placeholder": "​",
            "_view_module": "@jupyter-widgets/controls",
            "_model_module_version": "1.5.0",
            "value": " 443/443 [00:00&lt;00:00, 9.21kB/s]",
            "_view_count": null,
            "_view_module_version": "1.5.0",
            "description_tooltip": null,
            "_model_module": "@jupyter-widgets/controls",
            "layout": "IPY_MODEL_9c6d5d56a18941869ef5176bf986ab57"
          }
        },
        "c96219b21c0c491d85ec00127e520fb9": {
          "model_module": "@jupyter-widgets/controls",
          "model_name": "ProgressStyleModel",
          "state": {
            "_view_name": "StyleView",
            "_model_name": "ProgressStyleModel",
            "description_width": "initial",
            "_view_module": "@jupyter-widgets/base",
            "_model_module_version": "1.5.0",
            "_view_count": null,
            "_view_module_version": "1.2.0",
            "bar_color": null,
            "_model_module": "@jupyter-widgets/controls"
          }
        },
        "9a7fff84028041ea94f84c3662da3c16": {
          "model_module": "@jupyter-widgets/base",
          "model_name": "LayoutModel",
          "state": {
            "_view_name": "LayoutView",
            "grid_template_rows": null,
            "right": null,
            "justify_content": null,
            "_view_module": "@jupyter-widgets/base",
            "overflow": null,
            "_model_module_version": "1.2.0",
            "_view_count": null,
            "flex_flow": null,
            "width": null,
            "min_width": null,
            "border": null,
            "align_items": null,
            "bottom": null,
            "_model_module": "@jupyter-widgets/base",
            "top": null,
            "grid_column": null,
            "overflow_y": null,
            "overflow_x": null,
            "grid_auto_flow": null,
            "grid_area": null,
            "grid_template_columns": null,
            "flex": null,
            "_model_name": "LayoutModel",
            "justify_items": null,
            "grid_row": null,
            "max_height": null,
            "align_content": null,
            "visibility": null,
            "align_self": null,
            "height": null,
            "min_height": null,
            "padding": null,
            "grid_auto_rows": null,
            "grid_gap": null,
            "max_width": null,
            "order": null,
            "_view_module_version": "1.2.0",
            "grid_template_areas": null,
            "object_position": null,
            "object_fit": null,
            "grid_auto_columns": null,
            "margin": null,
            "display": null,
            "left": null
          }
        },
        "e716ac83d15a4e068ad5a2dede2f1ad6": {
          "model_module": "@jupyter-widgets/controls",
          "model_name": "DescriptionStyleModel",
          "state": {
            "_view_name": "StyleView",
            "_model_name": "DescriptionStyleModel",
            "description_width": "",
            "_view_module": "@jupyter-widgets/base",
            "_model_module_version": "1.5.0",
            "_view_count": null,
            "_view_module_version": "1.2.0",
            "_model_module": "@jupyter-widgets/controls"
          }
        },
        "9c6d5d56a18941869ef5176bf986ab57": {
          "model_module": "@jupyter-widgets/base",
          "model_name": "LayoutModel",
          "state": {
            "_view_name": "LayoutView",
            "grid_template_rows": null,
            "right": null,
            "justify_content": null,
            "_view_module": "@jupyter-widgets/base",
            "overflow": null,
            "_model_module_version": "1.2.0",
            "_view_count": null,
            "flex_flow": null,
            "width": null,
            "min_width": null,
            "border": null,
            "align_items": null,
            "bottom": null,
            "_model_module": "@jupyter-widgets/base",
            "top": null,
            "grid_column": null,
            "overflow_y": null,
            "overflow_x": null,
            "grid_auto_flow": null,
            "grid_area": null,
            "grid_template_columns": null,
            "flex": null,
            "_model_name": "LayoutModel",
            "justify_items": null,
            "grid_row": null,
            "max_height": null,
            "align_content": null,
            "visibility": null,
            "align_self": null,
            "height": null,
            "min_height": null,
            "padding": null,
            "grid_auto_rows": null,
            "grid_gap": null,
            "max_width": null,
            "order": null,
            "_view_module_version": "1.2.0",
            "grid_template_areas": null,
            "object_position": null,
            "object_fit": null,
            "grid_auto_columns": null,
            "margin": null,
            "display": null,
            "left": null
          }
        },
        "53a0aae15ca447acb65dc5320204f3e6": {
          "model_module": "@jupyter-widgets/controls",
          "model_name": "HBoxModel",
          "state": {
            "_view_name": "HBoxView",
            "_dom_classes": [],
            "_model_name": "HBoxModel",
            "_view_module": "@jupyter-widgets/controls",
            "_model_module_version": "1.5.0",
            "_view_count": null,
            "_view_module_version": "1.5.0",
            "box_style": "",
            "layout": "IPY_MODEL_d96dc8dfdb744790b26e2c527264638d",
            "_model_module": "@jupyter-widgets/controls",
            "children": [
              "IPY_MODEL_c29b781ea8ad4bf69e779062d82799be",
              "IPY_MODEL_60a7be433add463b9983de8c8e4c6ecf"
            ]
          }
        },
        "d96dc8dfdb744790b26e2c527264638d": {
          "model_module": "@jupyter-widgets/base",
          "model_name": "LayoutModel",
          "state": {
            "_view_name": "LayoutView",
            "grid_template_rows": null,
            "right": null,
            "justify_content": null,
            "_view_module": "@jupyter-widgets/base",
            "overflow": null,
            "_model_module_version": "1.2.0",
            "_view_count": null,
            "flex_flow": null,
            "width": null,
            "min_width": null,
            "border": null,
            "align_items": null,
            "bottom": null,
            "_model_module": "@jupyter-widgets/base",
            "top": null,
            "grid_column": null,
            "overflow_y": null,
            "overflow_x": null,
            "grid_auto_flow": null,
            "grid_area": null,
            "grid_template_columns": null,
            "flex": null,
            "_model_name": "LayoutModel",
            "justify_items": null,
            "grid_row": null,
            "max_height": null,
            "align_content": null,
            "visibility": null,
            "align_self": null,
            "height": null,
            "min_height": null,
            "padding": null,
            "grid_auto_rows": null,
            "grid_gap": null,
            "max_width": null,
            "order": null,
            "_view_module_version": "1.2.0",
            "grid_template_areas": null,
            "object_position": null,
            "object_fit": null,
            "grid_auto_columns": null,
            "margin": null,
            "display": null,
            "left": null
          }
        },
        "c29b781ea8ad4bf69e779062d82799be": {
          "model_module": "@jupyter-widgets/controls",
          "model_name": "FloatProgressModel",
          "state": {
            "_view_name": "ProgressView",
            "style": "IPY_MODEL_f327cd4ca2c94b90abfc12e88ef2cfe3",
            "_dom_classes": [],
            "description": "Downloading: 100%",
            "_model_name": "FloatProgressModel",
            "bar_style": "success",
            "max": 1340675298,
            "_view_module": "@jupyter-widgets/controls",
            "_model_module_version": "1.5.0",
            "value": 1340675298,
            "_view_count": null,
            "_view_module_version": "1.5.0",
            "orientation": "horizontal",
            "min": 0,
            "description_tooltip": null,
            "_model_module": "@jupyter-widgets/controls",
            "layout": "IPY_MODEL_a602a81b1d7443b582dcee0581970ec1"
          }
        },
        "60a7be433add463b9983de8c8e4c6ecf": {
          "model_module": "@jupyter-widgets/controls",
          "model_name": "HTMLModel",
          "state": {
            "_view_name": "HTMLView",
            "style": "IPY_MODEL_8cc8e9f93c9f4f1c8e4db7409d2c01bc",
            "_dom_classes": [],
            "description": "",
            "_model_name": "HTMLModel",
            "placeholder": "​",
            "_view_module": "@jupyter-widgets/controls",
            "_model_module_version": "1.5.0",
            "value": " 1.34G/1.34G [00:29&lt;00:00, 44.7MB/s]",
            "_view_count": null,
            "_view_module_version": "1.5.0",
            "description_tooltip": null,
            "_model_module": "@jupyter-widgets/controls",
            "layout": "IPY_MODEL_518b7661d8bd4d5d84e130321339e943"
          }
        },
        "f327cd4ca2c94b90abfc12e88ef2cfe3": {
          "model_module": "@jupyter-widgets/controls",
          "model_name": "ProgressStyleModel",
          "state": {
            "_view_name": "StyleView",
            "_model_name": "ProgressStyleModel",
            "description_width": "initial",
            "_view_module": "@jupyter-widgets/base",
            "_model_module_version": "1.5.0",
            "_view_count": null,
            "_view_module_version": "1.2.0",
            "bar_color": null,
            "_model_module": "@jupyter-widgets/controls"
          }
        },
        "a602a81b1d7443b582dcee0581970ec1": {
          "model_module": "@jupyter-widgets/base",
          "model_name": "LayoutModel",
          "state": {
            "_view_name": "LayoutView",
            "grid_template_rows": null,
            "right": null,
            "justify_content": null,
            "_view_module": "@jupyter-widgets/base",
            "overflow": null,
            "_model_module_version": "1.2.0",
            "_view_count": null,
            "flex_flow": null,
            "width": null,
            "min_width": null,
            "border": null,
            "align_items": null,
            "bottom": null,
            "_model_module": "@jupyter-widgets/base",
            "top": null,
            "grid_column": null,
            "overflow_y": null,
            "overflow_x": null,
            "grid_auto_flow": null,
            "grid_area": null,
            "grid_template_columns": null,
            "flex": null,
            "_model_name": "LayoutModel",
            "justify_items": null,
            "grid_row": null,
            "max_height": null,
            "align_content": null,
            "visibility": null,
            "align_self": null,
            "height": null,
            "min_height": null,
            "padding": null,
            "grid_auto_rows": null,
            "grid_gap": null,
            "max_width": null,
            "order": null,
            "_view_module_version": "1.2.0",
            "grid_template_areas": null,
            "object_position": null,
            "object_fit": null,
            "grid_auto_columns": null,
            "margin": null,
            "display": null,
            "left": null
          }
        },
        "8cc8e9f93c9f4f1c8e4db7409d2c01bc": {
          "model_module": "@jupyter-widgets/controls",
          "model_name": "DescriptionStyleModel",
          "state": {
            "_view_name": "StyleView",
            "_model_name": "DescriptionStyleModel",
            "description_width": "",
            "_view_module": "@jupyter-widgets/base",
            "_model_module_version": "1.5.0",
            "_view_count": null,
            "_view_module_version": "1.2.0",
            "_model_module": "@jupyter-widgets/controls"
          }
        },
        "518b7661d8bd4d5d84e130321339e943": {
          "model_module": "@jupyter-widgets/base",
          "model_name": "LayoutModel",
          "state": {
            "_view_name": "LayoutView",
            "grid_template_rows": null,
            "right": null,
            "justify_content": null,
            "_view_module": "@jupyter-widgets/base",
            "overflow": null,
            "_model_module_version": "1.2.0",
            "_view_count": null,
            "flex_flow": null,
            "width": null,
            "min_width": null,
            "border": null,
            "align_items": null,
            "bottom": null,
            "_model_module": "@jupyter-widgets/base",
            "top": null,
            "grid_column": null,
            "overflow_y": null,
            "overflow_x": null,
            "grid_auto_flow": null,
            "grid_area": null,
            "grid_template_columns": null,
            "flex": null,
            "_model_name": "LayoutModel",
            "justify_items": null,
            "grid_row": null,
            "max_height": null,
            "align_content": null,
            "visibility": null,
            "align_self": null,
            "height": null,
            "min_height": null,
            "padding": null,
            "grid_auto_rows": null,
            "grid_gap": null,
            "max_width": null,
            "order": null,
            "_view_module_version": "1.2.0",
            "grid_template_areas": null,
            "object_position": null,
            "object_fit": null,
            "grid_auto_columns": null,
            "margin": null,
            "display": null,
            "left": null
          }
        },
        "043f23a1cf8f4918be7b5383296ea1bb": {
          "model_module": "@jupyter-widgets/controls",
          "model_name": "HBoxModel",
          "state": {
            "_view_name": "HBoxView",
            "_dom_classes": [],
            "_model_name": "HBoxModel",
            "_view_module": "@jupyter-widgets/controls",
            "_model_module_version": "1.5.0",
            "_view_count": null,
            "_view_module_version": "1.5.0",
            "box_style": "",
            "layout": "IPY_MODEL_4b39c23b5432448cb8c9b6d7fecaef13",
            "_model_module": "@jupyter-widgets/controls",
            "children": [
              "IPY_MODEL_c18c215bc5d84f23b7995e28f4512c19",
              "IPY_MODEL_7298ebdefa2c4b678850110eb310c0fb"
            ]
          }
        },
        "4b39c23b5432448cb8c9b6d7fecaef13": {
          "model_module": "@jupyter-widgets/base",
          "model_name": "LayoutModel",
          "state": {
            "_view_name": "LayoutView",
            "grid_template_rows": null,
            "right": null,
            "justify_content": null,
            "_view_module": "@jupyter-widgets/base",
            "overflow": null,
            "_model_module_version": "1.2.0",
            "_view_count": null,
            "flex_flow": null,
            "width": null,
            "min_width": null,
            "border": null,
            "align_items": null,
            "bottom": null,
            "_model_module": "@jupyter-widgets/base",
            "top": null,
            "grid_column": null,
            "overflow_y": null,
            "overflow_x": null,
            "grid_auto_flow": null,
            "grid_area": null,
            "grid_template_columns": null,
            "flex": null,
            "_model_name": "LayoutModel",
            "justify_items": null,
            "grid_row": null,
            "max_height": null,
            "align_content": null,
            "visibility": null,
            "align_self": null,
            "height": null,
            "min_height": null,
            "padding": null,
            "grid_auto_rows": null,
            "grid_gap": null,
            "max_width": null,
            "order": null,
            "_view_module_version": "1.2.0",
            "grid_template_areas": null,
            "object_position": null,
            "object_fit": null,
            "grid_auto_columns": null,
            "margin": null,
            "display": null,
            "left": null
          }
        },
        "c18c215bc5d84f23b7995e28f4512c19": {
          "model_module": "@jupyter-widgets/controls",
          "model_name": "FloatProgressModel",
          "state": {
            "_view_name": "ProgressView",
            "style": "IPY_MODEL_fd6ec9906c0c40d48448a012413163c1",
            "_dom_classes": [],
            "description": "Downloading: 100%",
            "_model_name": "FloatProgressModel",
            "bar_style": "success",
            "max": 231508,
            "_view_module": "@jupyter-widgets/controls",
            "_model_module_version": "1.5.0",
            "value": 231508,
            "_view_count": null,
            "_view_module_version": "1.5.0",
            "orientation": "horizontal",
            "min": 0,
            "description_tooltip": null,
            "_model_module": "@jupyter-widgets/controls",
            "layout": "IPY_MODEL_322d718b797f41e1b2fe678d24879a6a"
          }
        },
        "7298ebdefa2c4b678850110eb310c0fb": {
          "model_module": "@jupyter-widgets/controls",
          "model_name": "HTMLModel",
          "state": {
            "_view_name": "HTMLView",
            "style": "IPY_MODEL_a57f746d2c604969bc0015a38fefab19",
            "_dom_classes": [],
            "description": "",
            "_model_name": "HTMLModel",
            "placeholder": "​",
            "_view_module": "@jupyter-widgets/controls",
            "_model_module_version": "1.5.0",
            "value": " 232k/232k [00:00&lt;00:00, 771kB/s]",
            "_view_count": null,
            "_view_module_version": "1.5.0",
            "description_tooltip": null,
            "_model_module": "@jupyter-widgets/controls",
            "layout": "IPY_MODEL_4af1c380a922418f8faadebc1203bc63"
          }
        },
        "fd6ec9906c0c40d48448a012413163c1": {
          "model_module": "@jupyter-widgets/controls",
          "model_name": "ProgressStyleModel",
          "state": {
            "_view_name": "StyleView",
            "_model_name": "ProgressStyleModel",
            "description_width": "initial",
            "_view_module": "@jupyter-widgets/base",
            "_model_module_version": "1.5.0",
            "_view_count": null,
            "_view_module_version": "1.2.0",
            "bar_color": null,
            "_model_module": "@jupyter-widgets/controls"
          }
        },
        "322d718b797f41e1b2fe678d24879a6a": {
          "model_module": "@jupyter-widgets/base",
          "model_name": "LayoutModel",
          "state": {
            "_view_name": "LayoutView",
            "grid_template_rows": null,
            "right": null,
            "justify_content": null,
            "_view_module": "@jupyter-widgets/base",
            "overflow": null,
            "_model_module_version": "1.2.0",
            "_view_count": null,
            "flex_flow": null,
            "width": null,
            "min_width": null,
            "border": null,
            "align_items": null,
            "bottom": null,
            "_model_module": "@jupyter-widgets/base",
            "top": null,
            "grid_column": null,
            "overflow_y": null,
            "overflow_x": null,
            "grid_auto_flow": null,
            "grid_area": null,
            "grid_template_columns": null,
            "flex": null,
            "_model_name": "LayoutModel",
            "justify_items": null,
            "grid_row": null,
            "max_height": null,
            "align_content": null,
            "visibility": null,
            "align_self": null,
            "height": null,
            "min_height": null,
            "padding": null,
            "grid_auto_rows": null,
            "grid_gap": null,
            "max_width": null,
            "order": null,
            "_view_module_version": "1.2.0",
            "grid_template_areas": null,
            "object_position": null,
            "object_fit": null,
            "grid_auto_columns": null,
            "margin": null,
            "display": null,
            "left": null
          }
        },
        "a57f746d2c604969bc0015a38fefab19": {
          "model_module": "@jupyter-widgets/controls",
          "model_name": "DescriptionStyleModel",
          "state": {
            "_view_name": "StyleView",
            "_model_name": "DescriptionStyleModel",
            "description_width": "",
            "_view_module": "@jupyter-widgets/base",
            "_model_module_version": "1.5.0",
            "_view_count": null,
            "_view_module_version": "1.2.0",
            "_model_module": "@jupyter-widgets/controls"
          }
        },
        "4af1c380a922418f8faadebc1203bc63": {
          "model_module": "@jupyter-widgets/base",
          "model_name": "LayoutModel",
          "state": {
            "_view_name": "LayoutView",
            "grid_template_rows": null,
            "right": null,
            "justify_content": null,
            "_view_module": "@jupyter-widgets/base",
            "overflow": null,
            "_model_module_version": "1.2.0",
            "_view_count": null,
            "flex_flow": null,
            "width": null,
            "min_width": null,
            "border": null,
            "align_items": null,
            "bottom": null,
            "_model_module": "@jupyter-widgets/base",
            "top": null,
            "grid_column": null,
            "overflow_y": null,
            "overflow_x": null,
            "grid_auto_flow": null,
            "grid_area": null,
            "grid_template_columns": null,
            "flex": null,
            "_model_name": "LayoutModel",
            "justify_items": null,
            "grid_row": null,
            "max_height": null,
            "align_content": null,
            "visibility": null,
            "align_self": null,
            "height": null,
            "min_height": null,
            "padding": null,
            "grid_auto_rows": null,
            "grid_gap": null,
            "max_width": null,
            "order": null,
            "_view_module_version": "1.2.0",
            "grid_template_areas": null,
            "object_position": null,
            "object_fit": null,
            "grid_auto_columns": null,
            "margin": null,
            "display": null,
            "left": null
          }
        }
      }
    }
  },
  "cells": [
    {
      "cell_type": "markdown",
      "metadata": {
        "id": "view-in-github",
        "colab_type": "text"
      },
      "source": [
        "<a href=\"https://colab.research.google.com/github/nuot/Deep-Learning-590/blob/master/test_model1.ipynb\" target=\"_parent\"><img src=\"https://colab.research.google.com/assets/colab-badge.svg\" alt=\"Open In Colab\"/></a>"
      ]
    },
    {
      "cell_type": "code",
      "metadata": {
        "colab": {
          "base_uri": "https://localhost:8080/"
        },
        "id": "LgLdq6KItrjA",
        "outputId": "945e764e-91e6-45a0-de03-64183cd49fb4"
      },
      "source": [
        "!pip install transformers"
      ],
      "execution_count": 1,
      "outputs": [
        {
          "output_type": "stream",
          "text": [
            "Collecting transformers\n",
            "\u001b[?25l  Downloading https://files.pythonhosted.org/packages/3a/83/e74092e7f24a08d751aa59b37a9fc572b2e4af3918cb66f7766c3affb1b4/transformers-3.5.1-py3-none-any.whl (1.3MB)\n",
            "\r\u001b[K     |▎                               | 10kB 14.0MB/s eta 0:00:01\r\u001b[K     |▌                               | 20kB 20.5MB/s eta 0:00:01\r\u001b[K     |▊                               | 30kB 16.2MB/s eta 0:00:01\r\u001b[K     |█                               | 40kB 12.3MB/s eta 0:00:01\r\u001b[K     |█▎                              | 51kB 8.5MB/s eta 0:00:01\r\u001b[K     |█▌                              | 61kB 8.8MB/s eta 0:00:01\r\u001b[K     |█▊                              | 71kB 8.6MB/s eta 0:00:01\r\u001b[K     |██                              | 81kB 9.1MB/s eta 0:00:01\r\u001b[K     |██▎                             | 92kB 9.2MB/s eta 0:00:01\r\u001b[K     |██▌                             | 102kB 9.6MB/s eta 0:00:01\r\u001b[K     |██▊                             | 112kB 9.6MB/s eta 0:00:01\r\u001b[K     |███                             | 122kB 9.6MB/s eta 0:00:01\r\u001b[K     |███▎                            | 133kB 9.6MB/s eta 0:00:01\r\u001b[K     |███▌                            | 143kB 9.6MB/s eta 0:00:01\r\u001b[K     |███▉                            | 153kB 9.6MB/s eta 0:00:01\r\u001b[K     |████                            | 163kB 9.6MB/s eta 0:00:01\r\u001b[K     |████▎                           | 174kB 9.6MB/s eta 0:00:01\r\u001b[K     |████▌                           | 184kB 9.6MB/s eta 0:00:01\r\u001b[K     |████▉                           | 194kB 9.6MB/s eta 0:00:01\r\u001b[K     |█████                           | 204kB 9.6MB/s eta 0:00:01\r\u001b[K     |█████▎                          | 215kB 9.6MB/s eta 0:00:01\r\u001b[K     |█████▌                          | 225kB 9.6MB/s eta 0:00:01\r\u001b[K     |█████▉                          | 235kB 9.6MB/s eta 0:00:01\r\u001b[K     |██████                          | 245kB 9.6MB/s eta 0:00:01\r\u001b[K     |██████▎                         | 256kB 9.6MB/s eta 0:00:01\r\u001b[K     |██████▌                         | 266kB 9.6MB/s eta 0:00:01\r\u001b[K     |██████▉                         | 276kB 9.6MB/s eta 0:00:01\r\u001b[K     |███████                         | 286kB 9.6MB/s eta 0:00:01\r\u001b[K     |███████▎                        | 296kB 9.6MB/s eta 0:00:01\r\u001b[K     |███████▋                        | 307kB 9.6MB/s eta 0:00:01\r\u001b[K     |███████▉                        | 317kB 9.6MB/s eta 0:00:01\r\u001b[K     |████████                        | 327kB 9.6MB/s eta 0:00:01\r\u001b[K     |████████▎                       | 337kB 9.6MB/s eta 0:00:01\r\u001b[K     |████████▋                       | 348kB 9.6MB/s eta 0:00:01\r\u001b[K     |████████▉                       | 358kB 9.6MB/s eta 0:00:01\r\u001b[K     |█████████                       | 368kB 9.6MB/s eta 0:00:01\r\u001b[K     |█████████▎                      | 378kB 9.6MB/s eta 0:00:01\r\u001b[K     |█████████▋                      | 389kB 9.6MB/s eta 0:00:01\r\u001b[K     |█████████▉                      | 399kB 9.6MB/s eta 0:00:01\r\u001b[K     |██████████                      | 409kB 9.6MB/s eta 0:00:01\r\u001b[K     |██████████▎                     | 419kB 9.6MB/s eta 0:00:01\r\u001b[K     |██████████▋                     | 430kB 9.6MB/s eta 0:00:01\r\u001b[K     |██████████▉                     | 440kB 9.6MB/s eta 0:00:01\r\u001b[K     |███████████                     | 450kB 9.6MB/s eta 0:00:01\r\u001b[K     |███████████▍                    | 460kB 9.6MB/s eta 0:00:01\r\u001b[K     |███████████▋                    | 471kB 9.6MB/s eta 0:00:01\r\u001b[K     |███████████▉                    | 481kB 9.6MB/s eta 0:00:01\r\u001b[K     |████████████                    | 491kB 9.6MB/s eta 0:00:01\r\u001b[K     |████████████▍                   | 501kB 9.6MB/s eta 0:00:01\r\u001b[K     |████████████▋                   | 512kB 9.6MB/s eta 0:00:01\r\u001b[K     |████████████▉                   | 522kB 9.6MB/s eta 0:00:01\r\u001b[K     |█████████████                   | 532kB 9.6MB/s eta 0:00:01\r\u001b[K     |█████████████▍                  | 542kB 9.6MB/s eta 0:00:01\r\u001b[K     |█████████████▋                  | 552kB 9.6MB/s eta 0:00:01\r\u001b[K     |█████████████▉                  | 563kB 9.6MB/s eta 0:00:01\r\u001b[K     |██████████████                  | 573kB 9.6MB/s eta 0:00:01\r\u001b[K     |██████████████▍                 | 583kB 9.6MB/s eta 0:00:01\r\u001b[K     |██████████████▋                 | 593kB 9.6MB/s eta 0:00:01\r\u001b[K     |██████████████▉                 | 604kB 9.6MB/s eta 0:00:01\r\u001b[K     |███████████████▏                | 614kB 9.6MB/s eta 0:00:01\r\u001b[K     |███████████████▍                | 624kB 9.6MB/s eta 0:00:01\r\u001b[K     |███████████████▋                | 634kB 9.6MB/s eta 0:00:01\r\u001b[K     |███████████████▉                | 645kB 9.6MB/s eta 0:00:01\r\u001b[K     |████████████████▏               | 655kB 9.6MB/s eta 0:00:01\r\u001b[K     |████████████████▍               | 665kB 9.6MB/s eta 0:00:01\r\u001b[K     |████████████████▋               | 675kB 9.6MB/s eta 0:00:01\r\u001b[K     |████████████████▉               | 686kB 9.6MB/s eta 0:00:01\r\u001b[K     |█████████████████▏              | 696kB 9.6MB/s eta 0:00:01\r\u001b[K     |█████████████████▍              | 706kB 9.6MB/s eta 0:00:01\r\u001b[K     |█████████████████▋              | 716kB 9.6MB/s eta 0:00:01\r\u001b[K     |██████████████████              | 727kB 9.6MB/s eta 0:00:01\r\u001b[K     |██████████████████▏             | 737kB 9.6MB/s eta 0:00:01\r\u001b[K     |██████████████████▍             | 747kB 9.6MB/s eta 0:00:01\r\u001b[K     |██████████████████▋             | 757kB 9.6MB/s eta 0:00:01\r\u001b[K     |███████████████████             | 768kB 9.6MB/s eta 0:00:01\r\u001b[K     |███████████████████▏            | 778kB 9.6MB/s eta 0:00:01\r\u001b[K     |███████████████████▍            | 788kB 9.6MB/s eta 0:00:01\r\u001b[K     |███████████████████▋            | 798kB 9.6MB/s eta 0:00:01\r\u001b[K     |████████████████████            | 808kB 9.6MB/s eta 0:00:01\r\u001b[K     |████████████████████▏           | 819kB 9.6MB/s eta 0:00:01\r\u001b[K     |████████████████████▍           | 829kB 9.6MB/s eta 0:00:01\r\u001b[K     |████████████████████▋           | 839kB 9.6MB/s eta 0:00:01\r\u001b[K     |█████████████████████           | 849kB 9.6MB/s eta 0:00:01\r\u001b[K     |█████████████████████▏          | 860kB 9.6MB/s eta 0:00:01\r\u001b[K     |█████████████████████▍          | 870kB 9.6MB/s eta 0:00:01\r\u001b[K     |█████████████████████▊          | 880kB 9.6MB/s eta 0:00:01\r\u001b[K     |██████████████████████          | 890kB 9.6MB/s eta 0:00:01\r\u001b[K     |██████████████████████▏         | 901kB 9.6MB/s eta 0:00:01\r\u001b[K     |██████████████████████▍         | 911kB 9.6MB/s eta 0:00:01\r\u001b[K     |██████████████████████▊         | 921kB 9.6MB/s eta 0:00:01\r\u001b[K     |███████████████████████         | 931kB 9.6MB/s eta 0:00:01\r\u001b[K     |███████████████████████▏        | 942kB 9.6MB/s eta 0:00:01\r\u001b[K     |███████████████████████▍        | 952kB 9.6MB/s eta 0:00:01\r\u001b[K     |███████████████████████▊        | 962kB 9.6MB/s eta 0:00:01\r\u001b[K     |████████████████████████        | 972kB 9.6MB/s eta 0:00:01\r\u001b[K     |████████████████████████▏       | 983kB 9.6MB/s eta 0:00:01\r\u001b[K     |████████████████████████▍       | 993kB 9.6MB/s eta 0:00:01\r\u001b[K     |████████████████████████▊       | 1.0MB 9.6MB/s eta 0:00:01\r\u001b[K     |█████████████████████████       | 1.0MB 9.6MB/s eta 0:00:01\r\u001b[K     |█████████████████████████▏      | 1.0MB 9.6MB/s eta 0:00:01\r\u001b[K     |█████████████████████████▌      | 1.0MB 9.6MB/s eta 0:00:01\r\u001b[K     |█████████████████████████▊      | 1.0MB 9.6MB/s eta 0:00:01\r\u001b[K     |██████████████████████████      | 1.1MB 9.6MB/s eta 0:00:01\r\u001b[K     |██████████████████████████▏     | 1.1MB 9.6MB/s eta 0:00:01\r\u001b[K     |██████████████████████████▌     | 1.1MB 9.6MB/s eta 0:00:01\r\u001b[K     |██████████████████████████▊     | 1.1MB 9.6MB/s eta 0:00:01\r\u001b[K     |███████████████████████████     | 1.1MB 9.6MB/s eta 0:00:01\r\u001b[K     |███████████████████████████▏    | 1.1MB 9.6MB/s eta 0:00:01\r\u001b[K     |███████████████████████████▌    | 1.1MB 9.6MB/s eta 0:00:01\r\u001b[K     |███████████████████████████▊    | 1.1MB 9.6MB/s eta 0:00:01\r\u001b[K     |████████████████████████████    | 1.1MB 9.6MB/s eta 0:00:01\r\u001b[K     |████████████████████████████▏   | 1.1MB 9.6MB/s eta 0:00:01\r\u001b[K     |████████████████████████████▌   | 1.2MB 9.6MB/s eta 0:00:01\r\u001b[K     |████████████████████████████▊   | 1.2MB 9.6MB/s eta 0:00:01\r\u001b[K     |█████████████████████████████   | 1.2MB 9.6MB/s eta 0:00:01\r\u001b[K     |█████████████████████████████▎  | 1.2MB 9.6MB/s eta 0:00:01\r\u001b[K     |█████████████████████████████▌  | 1.2MB 9.6MB/s eta 0:00:01\r\u001b[K     |█████████████████████████████▊  | 1.2MB 9.6MB/s eta 0:00:01\r\u001b[K     |██████████████████████████████  | 1.2MB 9.6MB/s eta 0:00:01\r\u001b[K     |██████████████████████████████▎ | 1.2MB 9.6MB/s eta 0:00:01\r\u001b[K     |██████████████████████████████▌ | 1.2MB 9.6MB/s eta 0:00:01\r\u001b[K     |██████████████████████████████▊ | 1.2MB 9.6MB/s eta 0:00:01\r\u001b[K     |███████████████████████████████ | 1.3MB 9.6MB/s eta 0:00:01\r\u001b[K     |███████████████████████████████▎| 1.3MB 9.6MB/s eta 0:00:01\r\u001b[K     |███████████████████████████████▌| 1.3MB 9.6MB/s eta 0:00:01\r\u001b[K     |███████████████████████████████▊| 1.3MB 9.6MB/s eta 0:00:01\r\u001b[K     |████████████████████████████████| 1.3MB 9.6MB/s eta 0:00:01\r\u001b[K     |████████████████████████████████| 1.3MB 9.6MB/s \n",
            "\u001b[?25hRequirement already satisfied: regex!=2019.12.17 in /usr/local/lib/python3.6/dist-packages (from transformers) (2019.12.20)\n",
            "Requirement already satisfied: packaging in /usr/local/lib/python3.6/dist-packages (from transformers) (20.4)\n",
            "Requirement already satisfied: numpy in /usr/local/lib/python3.6/dist-packages (from transformers) (1.18.5)\n",
            "Collecting tokenizers==0.9.3\n",
            "\u001b[?25l  Downloading https://files.pythonhosted.org/packages/4c/34/b39eb9994bc3c999270b69c9eea40ecc6f0e97991dba28282b9fd32d44ee/tokenizers-0.9.3-cp36-cp36m-manylinux1_x86_64.whl (2.9MB)\n",
            "\u001b[K     |████████████████████████████████| 2.9MB 34.5MB/s \n",
            "\u001b[?25hCollecting sentencepiece==0.1.91\n",
            "\u001b[?25l  Downloading https://files.pythonhosted.org/packages/d4/a4/d0a884c4300004a78cca907a6ff9a5e9fe4f090f5d95ab341c53d28cbc58/sentencepiece-0.1.91-cp36-cp36m-manylinux1_x86_64.whl (1.1MB)\n",
            "\u001b[K     |████████████████████████████████| 1.1MB 36.9MB/s \n",
            "\u001b[?25hRequirement already satisfied: tqdm>=4.27 in /usr/local/lib/python3.6/dist-packages (from transformers) (4.41.1)\n",
            "Requirement already satisfied: filelock in /usr/local/lib/python3.6/dist-packages (from transformers) (3.0.12)\n",
            "Requirement already satisfied: dataclasses; python_version < \"3.7\" in /usr/local/lib/python3.6/dist-packages (from transformers) (0.8)\n",
            "Collecting sacremoses\n",
            "\u001b[?25l  Downloading https://files.pythonhosted.org/packages/7d/34/09d19aff26edcc8eb2a01bed8e98f13a1537005d31e95233fd48216eed10/sacremoses-0.0.43.tar.gz (883kB)\n",
            "\u001b[K     |████████████████████████████████| 890kB 42.8MB/s \n",
            "\u001b[?25hRequirement already satisfied: protobuf in /usr/local/lib/python3.6/dist-packages (from transformers) (3.12.4)\n",
            "Requirement already satisfied: requests in /usr/local/lib/python3.6/dist-packages (from transformers) (2.23.0)\n",
            "Requirement already satisfied: pyparsing>=2.0.2 in /usr/local/lib/python3.6/dist-packages (from packaging->transformers) (2.4.7)\n",
            "Requirement already satisfied: six in /usr/local/lib/python3.6/dist-packages (from packaging->transformers) (1.15.0)\n",
            "Requirement already satisfied: click in /usr/local/lib/python3.6/dist-packages (from sacremoses->transformers) (7.1.2)\n",
            "Requirement already satisfied: joblib in /usr/local/lib/python3.6/dist-packages (from sacremoses->transformers) (0.17.0)\n",
            "Requirement already satisfied: setuptools in /usr/local/lib/python3.6/dist-packages (from protobuf->transformers) (50.3.2)\n",
            "Requirement already satisfied: certifi>=2017.4.17 in /usr/local/lib/python3.6/dist-packages (from requests->transformers) (2020.11.8)\n",
            "Requirement already satisfied: urllib3!=1.25.0,!=1.25.1,<1.26,>=1.21.1 in /usr/local/lib/python3.6/dist-packages (from requests->transformers) (1.24.3)\n",
            "Requirement already satisfied: idna<3,>=2.5 in /usr/local/lib/python3.6/dist-packages (from requests->transformers) (2.10)\n",
            "Requirement already satisfied: chardet<4,>=3.0.2 in /usr/local/lib/python3.6/dist-packages (from requests->transformers) (3.0.4)\n",
            "Building wheels for collected packages: sacremoses\n",
            "  Building wheel for sacremoses (setup.py) ... \u001b[?25l\u001b[?25hdone\n",
            "  Created wheel for sacremoses: filename=sacremoses-0.0.43-cp36-none-any.whl size=893257 sha256=0857c61aca446a7bb75214319740c769e746345603997502ebd4d1a24e8c31ce\n",
            "  Stored in directory: /root/.cache/pip/wheels/29/3c/fd/7ce5c3f0666dab31a50123635e6fb5e19ceb42ce38d4e58f45\n",
            "Successfully built sacremoses\n",
            "Installing collected packages: tokenizers, sentencepiece, sacremoses, transformers\n",
            "Successfully installed sacremoses-0.0.43 sentencepiece-0.1.91 tokenizers-0.9.3 transformers-3.5.1\n"
          ],
          "name": "stdout"
        }
      ]
    },
    {
      "cell_type": "code",
      "metadata": {
        "colab": {
          "base_uri": "https://localhost:8080/",
          "height": 164,
          "referenced_widgets": [
            "b975a9d5fbbc4c08a07985fa2bd7c497",
            "b8a2b45903014be09feb320961bf6482",
            "5b7d4d2f59a34c3898a18a075de1d5db",
            "76b0ab80428a4be685e9b062e851d7a3",
            "c96219b21c0c491d85ec00127e520fb9",
            "9a7fff84028041ea94f84c3662da3c16",
            "e716ac83d15a4e068ad5a2dede2f1ad6",
            "9c6d5d56a18941869ef5176bf986ab57",
            "53a0aae15ca447acb65dc5320204f3e6",
            "d96dc8dfdb744790b26e2c527264638d",
            "c29b781ea8ad4bf69e779062d82799be",
            "60a7be433add463b9983de8c8e4c6ecf",
            "f327cd4ca2c94b90abfc12e88ef2cfe3",
            "a602a81b1d7443b582dcee0581970ec1",
            "8cc8e9f93c9f4f1c8e4db7409d2c01bc",
            "518b7661d8bd4d5d84e130321339e943",
            "043f23a1cf8f4918be7b5383296ea1bb",
            "4b39c23b5432448cb8c9b6d7fecaef13",
            "c18c215bc5d84f23b7995e28f4512c19",
            "7298ebdefa2c4b678850110eb310c0fb",
            "fd6ec9906c0c40d48448a012413163c1",
            "322d718b797f41e1b2fe678d24879a6a",
            "a57f746d2c604969bc0015a38fefab19",
            "4af1c380a922418f8faadebc1203bc63"
          ]
        },
        "id": "Zw3WDzyqtwPk",
        "outputId": "e649ba7f-c7f6-47d9-f3b7-80df050b8f92"
      },
      "source": [
        "import torch\n",
        "from transformers import BertForQuestionAnswering\n",
        "from transformers import BertTokenizer\n",
        "\n",
        "#Model\n",
        "model = BertForQuestionAnswering.from_pretrained('bert-large-uncased-whole-word-masking-finetuned-squad')\n",
        "\n",
        "#Tokenizer\n",
        "tokenizer = BertTokenizer.from_pretrained('bert-large-uncased-whole-word-masking-finetuned-squad')"
      ],
      "execution_count": 2,
      "outputs": [
        {
          "output_type": "display_data",
          "data": {
            "application/vnd.jupyter.widget-view+json": {
              "model_id": "b975a9d5fbbc4c08a07985fa2bd7c497",
              "version_minor": 0,
              "version_major": 2
            },
            "text/plain": [
              "HBox(children=(FloatProgress(value=0.0, description='Downloading', max=443.0, style=ProgressStyle(description_…"
            ]
          },
          "metadata": {
            "tags": []
          }
        },
        {
          "output_type": "stream",
          "text": [
            "\n"
          ],
          "name": "stdout"
        },
        {
          "output_type": "display_data",
          "data": {
            "application/vnd.jupyter.widget-view+json": {
              "model_id": "53a0aae15ca447acb65dc5320204f3e6",
              "version_minor": 0,
              "version_major": 2
            },
            "text/plain": [
              "HBox(children=(FloatProgress(value=0.0, description='Downloading', max=1340675298.0, style=ProgressStyle(descr…"
            ]
          },
          "metadata": {
            "tags": []
          }
        },
        {
          "output_type": "stream",
          "text": [
            "\n"
          ],
          "name": "stdout"
        },
        {
          "output_type": "display_data",
          "data": {
            "application/vnd.jupyter.widget-view+json": {
              "model_id": "043f23a1cf8f4918be7b5383296ea1bb",
              "version_minor": 0,
              "version_major": 2
            },
            "text/plain": [
              "HBox(children=(FloatProgress(value=0.0, description='Downloading', max=231508.0, style=ProgressStyle(descripti…"
            ]
          },
          "metadata": {
            "tags": []
          }
        },
        {
          "output_type": "stream",
          "text": [
            "\n"
          ],
          "name": "stdout"
        }
      ]
    },
    {
      "cell_type": "code",
      "metadata": {
        "id": "-VnO40bPt_iI"
      },
      "source": [
        "question = '''Why was the student group called \"the Methodists?\"'''\n",
        "\n",
        "paragraph = ''' The movement which would become The United Methodist Church began in the mid-18th century within the Church of England.\n",
        "            A small group of students, including John Wesley, Charles Wesley and George Whitefield, met on the Oxford University campus.\n",
        "            They focused on Bible study, methodical study of scripture and living a holy life.\n",
        "            Other students mocked them, saying they were the \"Holy Club\" and \"the Methodists\", being methodical and exceptionally detailed in their Bible study, opinions and disciplined lifestyle.\n",
        "            Eventually, the so-called Methodists started individual societies or classes for members of the Church of England who wanted to live a more religious life. '''\n",
        "            \n",
        "encoding = tokenizer.encode_plus(text=question,text_pair=paragraph)\n",
        "\n",
        "inputs = encoding['input_ids']  #Token embeddings\n",
        "sentence_embedding = encoding['token_type_ids']  #Segment embeddings\n",
        "tokens = tokenizer.convert_ids_to_tokens(inputs) #input tokens"
      ],
      "execution_count": 5,
      "outputs": []
    },
    {
      "cell_type": "code",
      "metadata": {
        "id": "mLGmwX_SuFDd"
      },
      "source": [
        "start_scores, end_scores = model(input_ids=torch.tensor([inputs]), token_type_ids=torch.tensor([sentence_embedding]))\n",
        "\n",
        "start_index = torch.argmax(start_scores)\n",
        "\n",
        "end_index = torch.argmax(end_scores)\n",
        "\n",
        "answer = ' '.join(tokens[start_index:end_index+1])"
      ],
      "execution_count": 7,
      "outputs": []
    },
    {
      "cell_type": "code",
      "metadata": {
        "id": "W5t0CF4PuLRt"
      },
      "source": [
        "corrected_answer = ''\n",
        "\n",
        "for word in answer.split():\n",
        "    \n",
        "    #If it's a subword token\n",
        "    if word[0:2] == '##':\n",
        "        corrected_answer += word[2:]\n",
        "    else:\n",
        "        corrected_answer += ' ' + word"
      ],
      "execution_count": 8,
      "outputs": []
    },
    {
      "cell_type": "code",
      "metadata": {
        "colab": {
          "base_uri": "https://localhost:8080/",
          "height": 35
        },
        "id": "TvaErQNRuTJ6",
        "outputId": "1c3edae5-0145-4acf-dcf4-5560343ffea9"
      },
      "source": [
        "corrected_answer"
      ],
      "execution_count": 9,
      "outputs": [
        {
          "output_type": "execute_result",
          "data": {
            "application/vnd.google.colaboratory.intrinsic+json": {
              "type": "string"
            },
            "text/plain": [
              "' methodical and exceptionally detailed in their bible study , opinions and disciplined lifestyle'"
            ]
          },
          "metadata": {
            "tags": []
          },
          "execution_count": 9
        }
      ]
    },
    {
      "cell_type": "code",
      "metadata": {
        "id": "S81n7wWTudS5"
      },
      "source": [
        "question = '''What's my name?\"'''\n",
        "\n",
        "paragraph = ''' hello everybody, how's everyone doing here. This is Nuo Tian speaking hey hey yo yo my friends do you miss me? '''\n",
        "            \n",
        "encoding = tokenizer.encode_plus(text=question,text_pair=paragraph)\n",
        "\n",
        "inputs = encoding['input_ids']  #Token embeddings\n",
        "sentence_embedding = encoding['token_type_ids']  #Segment embeddings\n",
        "tokens = tokenizer.convert_ids_to_tokens(inputs) #input tokens\n",
        "\n",
        "start_scores, end_scores = model(input_ids=torch.tensor([inputs]), token_type_ids=torch.tensor([sentence_embedding]))\n",
        "\n",
        "start_index = torch.argmax(start_scores)\n",
        "\n",
        "end_index = torch.argmax(end_scores)\n",
        "\n",
        "answer = ' '.join(tokens[start_index:end_index+1])"
      ],
      "execution_count": 13,
      "outputs": []
    },
    {
      "cell_type": "code",
      "metadata": {
        "colab": {
          "base_uri": "https://localhost:8080/",
          "height": 35
        },
        "id": "spY8RPKXvGf3",
        "outputId": "c30fcaf9-520d-431a-b480-af2e6193f373"
      },
      "source": [
        "corrected_answer = ''\n",
        "\n",
        "for word in answer.split():\n",
        "    \n",
        "    #If it's a subword token\n",
        "    if word[0:2] == '##':\n",
        "        corrected_answer += word[2:]\n",
        "    else:\n",
        "        corrected_answer += ' ' + word\n",
        "\n",
        "corrected_answer›"
      ],
      "execution_count": 14,
      "outputs": [
        {
          "output_type": "execute_result",
          "data": {
            "application/vnd.google.colaboratory.intrinsic+json": {
              "type": "string"
            },
            "text/plain": [
              "' nuo tian'"
            ]
          },
          "metadata": {
            "tags": []
          },
          "execution_count": 14
        }
      ]
    },
    {
      "cell_type": "code",
      "metadata": {
        "id": "k8Un55DmvLCf"
      },
      "source": [
        "question = '''Who is Mary??'''\n",
        "\n",
        "paragraph = ''' hello everybody, how's everyone doing here. This is Nuo Tian speaking hey hey yo yo my friends do you miss me?\n",
        " And let's welcome our dear friend mary to sing a beautiful song for us'''\n",
        "            \n",
        "encoding = tokenizer.encode_plus(text=question,text_pair=paragraph)\n",
        "\n",
        "inputs = encoding['input_ids']  #Token embeddings\n",
        "sentence_embedding = encoding['token_type_ids']  #Segment embeddings\n",
        "tokens = tokenizer.convert_ids_to_tokens(inputs) #input tokens\n",
        "\n",
        "start_scores, end_scores = model(input_ids=torch.tensor([inputs]), token_type_ids=torch.tensor([sentence_embedding]))\n",
        "\n",
        "start_index = torch.argmax(start_scores)\n",
        "\n",
        "end_index = torch.argmax(end_scores)\n",
        "\n",
        "answer = ' '.join(tokens[start_index:end_index+1])"
      ],
      "execution_count": 15,
      "outputs": []
    },
    {
      "cell_type": "code",
      "metadata": {
        "colab": {
          "base_uri": "https://localhost:8080/",
          "height": 35
        },
        "id": "HQzSTzDHvpHr",
        "outputId": "115d995e-ccc3-4464-b934-1a53354f7386"
      },
      "source": [
        "corrected_answer = ''\n",
        "\n",
        "for word in answer.split():\n",
        "    \n",
        "    #If it's a subword token\n",
        "    if word[0:2] == '##':\n",
        "        corrected_answer += word[2:]\n",
        "    else:\n",
        "        corrected_answer += ' ' + word\n",
        "\n",
        "corrected_answer"
      ],
      "execution_count": 17,
      "outputs": [
        {
          "output_type": "execute_result",
          "data": {
            "application/vnd.google.colaboratory.intrinsic+json": {
              "type": "string"
            },
            "text/plain": [
              "' our dear friend'"
            ]
          },
          "metadata": {
            "tags": []
          },
          "execution_count": 17
        }
      ]
    }
  ]
}